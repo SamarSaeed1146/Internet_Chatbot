{
  "nbformat": 4,
  "nbformat_minor": 0,
  "metadata": {
    "colab": {
      "provenance": [],
      "authorship_tag": "ABX9TyOeBlvQhB6hhp9DW5drXQn3",
      "include_colab_link": true
    },
    "kernelspec": {
      "name": "python3",
      "display_name": "Python 3"
    },
    "language_info": {
      "name": "python"
    }
  },
  "cells": [
    {
      "cell_type": "markdown",
      "metadata": {
        "id": "view-in-github",
        "colab_type": "text"
      },
      "source": [
        "<a href=\"https://colab.research.google.com/github/SamarSaeed1146/Internet_Chatbot/blob/main/internet_chatbot_with_tavily_01.ipynb\" target=\"_parent\"><img src=\"https://colab.research.google.com/assets/colab-badge.svg\" alt=\"Open In Colab\"/></a>"
      ]
    },
    {
      "cell_type": "code",
      "execution_count": 21,
      "metadata": {
        "id": "I_MhFcUkiXAE"
      },
      "outputs": [],
      "source": [
        "%%capture --no-stderr\n",
        "%pip install -U langchain_google_genai langgraph langchain_core langchain tavily-python langchain_community"
      ]
    },
    {
      "cell_type": "code",
      "source": [
        "import os\n",
        "from google.colab import userdata\n",
        "\n",
        "os.environ['LANGCHAIN_API_KEY'] = userdata.get('LANGCHAIN_API_KEY')\n",
        "os.environ['LANGCHAIN_TRACING_V2'] = 'true'\n",
        "os.environ['LANGCHAIN_PROJECT'] = 'internet_search'\n",
        "os.environ['TAVILY_API_KEY'] = userdata.get('TAVILY_API_KEY')\n",
        "\n",
        "gemini_api_key = userdata.get('GEMINI_API_KEY')"
      ],
      "metadata": {
        "id": "PI-EIMJbnC1G"
      },
      "execution_count": 22,
      "outputs": []
    },
    {
      "cell_type": "code",
      "source": [
        "from langchain_google_genai import ChatGoogleGenerativeAI\n",
        "\n",
        "llm: ChatGoogleGenerativeAI = ChatGoogleGenerativeAI(\n",
        "    model=\"gemini-1.5-flash\",\n",
        "    api_key=gemini_api_key,\n",
        "    max_retries=2,\n",
        "    temperature=0.5,\n",
        ")\n",
        "\n",
        "llm.invoke(\"hi\")"
      ],
      "metadata": {
        "colab": {
          "base_uri": "https://localhost:8080/"
        },
        "id": "jBZnZMt4rMNi",
        "outputId": "a9922a87-0a6f-4a69-fb8f-57cf7b379f99"
      },
      "execution_count": 23,
      "outputs": [
        {
          "output_type": "execute_result",
          "data": {
            "text/plain": [
              "AIMessage(content='Hi there! How can I help you today?\\n', additional_kwargs={}, response_metadata={'prompt_feedback': {'block_reason': 0, 'safety_ratings': []}, 'finish_reason': 'STOP', 'safety_ratings': []}, id='run-7ddace6f-910b-4e01-92ec-f93365604882-0', usage_metadata={'input_tokens': 2, 'output_tokens': 11, 'total_tokens': 13, 'input_token_details': {'cache_read': 0}})"
            ]
          },
          "metadata": {},
          "execution_count": 23
        }
      ]
    },
    {
      "cell_type": "code",
      "source": [
        "from langchain_community.tools.tavily_search import TavilySearchResults\n",
        "\n",
        "tool = TavilySearchResults(max_results=2)\n",
        "tools = [tool]\n",
        "tool.invoke(\"what is langchain?\")"
      ],
      "metadata": {
        "colab": {
          "base_uri": "https://localhost:8080/"
        },
        "id": "5vfRPkmL3acv",
        "outputId": "c42e6071-f8e9-4605-99b3-4a7aa11961ff"
      },
      "execution_count": 24,
      "outputs": [
        {
          "output_type": "execute_result",
          "data": {
            "text/plain": [
              "[{'url': 'https://www.geeksforgeeks.org/introduction-to-langchain/',\n",
              "  'content': 'Data Structures and Algorithms\\nML & Data Science\\nWeb Development\\nLanguages\\nInterview Corner\\nCS Subjects\\nJobs\\nPractice\\nContests\\nIntroduction to Langchain\\nLangChain is an open-source framework designed to simplify the creation of applications using large language models (LLMs). LangChain follows a general pipeline where a user asks a question to the language model where the vector representation of the question is used to do a similarity search in the vector database and the relevant information is fetched from the vector database and the response is later fed to the language model. LangChain Key Concepts:\\nThe main properties of LangChain Framework are :\\nSetting up the environment\\nInstallation of langchain is very simple and similar as you install other libraries using the pip command.\\n Next, we create a .env file and store our API key in it as follows:\\nPython\\nNow, I am creating a new file named ‘lang.py’ where I will be using the LangChain framework to generate responses. We start by importing long-chain and initializing an LLM as follows:\\nPython\\nWe are initializing it with a high temperature which means that the results will be random and less accurate.'},\n",
              " {'url': 'https://python.langchain.com/docs/introduction/',\n",
              "  'content': \"How to use tools in a chain How to migrate from legacy LangChain agents to LangGraph How to use chat models to call tools LangChain is a framework for developing applications powered by large language models (LLMs). Development: Build your applications using LangChain's open-source building blocks, components, and third-party integrations. langchain: Chains, agents, and retrieval strategies that make up an application's cognitive architecture. LangServe: Deploy LangChain chains as REST APIs. LangSmith: A developer platform that lets you debug, test, evaluate, and monitor LLM applications. Build stateful, multi-actor applications with LLMs. Integrates smoothly with LangChain, but can be used without it. LangChain is part of a rich ecosystem of tools that integrate with our framework and build on top of it.\"}]"
            ]
          },
          "metadata": {},
          "execution_count": 24
        }
      ]
    },
    {
      "cell_type": "code",
      "source": [
        "from langgraph.graph import StateGraph, START, END\n",
        "from langgraph.graph.message import add_messages\n",
        "from IPython.display import Image, display\n",
        "from typing_extensions import Annotated, TypedDict\n",
        "\n",
        "def internet_problem_solver(user_input: str):\n",
        "    if \"internet\" not in user_input.lower():\n",
        "        return \"I can only assist with internet-related problems. Please ask about issues such as slow speeds, connection drops, or Wi-Fi setups.\"\n",
        "\n",
        "    responses = []\n",
        "    try:\n",
        "        print(\"Using TavilySearchResults for query:\", user_input)\n",
        "        tool_response = tool.invoke(user_input)\n",
        "        print(\"Tool response:\", tool_response)\n",
        "\n",
        "        if tool_response:\n",
        "            responses.append(f\"**Search Result:** {tool_response}\")\n",
        "    except Exception as e:\n",
        "        print(f\"Error invoking TavilySearchResults: {str(e)}\")\n",
        "        responses.append(f\"Error with TavilySearchResults: {str(e)}\")\n",
        "\n",
        "    try:\n",
        "        print(\"Using LLM for query:\", user_input)\n",
        "        llm_response = llm.invoke(user_input)\n",
        "        print(\"LLM response:\", llm_response)\n",
        "\n",
        "        if llm_response:\n",
        "            responses.append(f\"**LLM Response:** {llm_response}\")\n",
        "    except Exception as e:\n",
        "        print(f\"Error invoking LLM: {str(e)}\")\n",
        "        responses.append(f\"Error with LLM: {str(e)}\")\n",
        "\n",
        "    if responses:\n",
        "        return \"\\n\\n\".join(responses)\n",
        "    else:\n",
        "        return \"No meaningful response from tools or LLM.\"\n",
        "\n",
        "class State(TypedDict):\n",
        "    messages: Annotated[list, add_messages]\n",
        "\n",
        "graph_builder = StateGraph(State)\n",
        "graph_builder.add_node(\"Internet Problem Solver\", internet_problem_solver)\n",
        "graph_builder.add_edge(START, \"Internet Problem Solver\")\n",
        "graph_builder.add_edge(\"Internet Problem Solver\", END)\n",
        "graph = graph_builder.compile()\n",
        "\n",
        "try:\n",
        "    display(Image(graph.get_graph().draw_mermaid_png()))\n",
        "except Exception:\n",
        "    pass\n"
      ],
      "metadata": {
        "colab": {
          "base_uri": "https://localhost:8080/",
          "height": 251
        },
        "id": "zDF_dOhNj2m3",
        "outputId": "41c11955-1e35-4454-d62a-3857e49db0e6"
      },
      "execution_count": 25,
      "outputs": [
        {
          "output_type": "display_data",
          "data": {
            "image/png": "[encoded data removed]",
            "text/plain": [
              "<IPython.core.display.Image object>"
            ]
          },
          "metadata": {}
        }
      ]
    },
    {
      "cell_type": "code",
      "source": [
        "from pprint import pprint\n",
        "\n",
        "while True:\n",
        "    try:\n",
        "        user_input = input(\"User: \")\n",
        "        if user_input.lower() in [\"quit\", \"exit\", \"q\", \"bye\"]:\n",
        "            pprint(\"Goodbye!\")\n",
        "            break\n",
        "\n",
        "        answer = internet_problem_solver(user_input)\n",
        "        pprint(f\"Assistant: {answer}\")\n",
        "    except Exception as e:\n",
        "        pprint(f\"Error: {e}\")"
      ],
      "metadata": {
        "colab": {
          "base_uri": "https://localhost:8080/"
        },
        "id": "o0nHI1J8j-B3",
        "outputId": "f0b8a3ad-4676-49ae-b217-a0b1761f8ab2"
      },
      "execution_count": 26,
      "outputs": [
        {
          "output_type": "stream",
          "name": "stdout",
          "text": [
            "User: hi\n",
            "('Assistant: I can only assist with internet-related problems. Please ask '\n",
            " 'about issues such as slow speeds, connection drops, or Wi-Fi setups.')\n",
            "User: why internet is too slow\n",
            "Using TavilySearchResults for query: why internet is too slow\n",
            "Tool response: [{'url': 'https://www.usatoday.com/tech/internet/how-to-fix-slow-internet/', 'content': 'Why is my internet so slow on my phone? Slow internet speed on your phone can be caused by a low battery, having your phone in low-power mode, having too many open apps or having a full memory'}, {'url': 'https://www.lifewire.com/troubleshooting-slow-internet-connection-818125', 'content': 'Causes of a Slow Internet Connection . Several factors could affect your slow internet connection. Games and other programs that work with video require significant bandwidth. When they run, they limit the bandwidth available for other apps. Other network activity could affect overall bandwidth.'}]\n",
            "Using LLM for query: why internet is too slow\n",
            "LLM response: content=\"Slow internet can be caused by a multitude of factors, both on your end and on the side of your internet service provider (ISP).  Here's a breakdown of common culprits:\\n\\n**On Your End:**\\n\\n* **Network Congestion:**  Multiple devices using your internet connection simultaneously (streaming, gaming, downloading) can significantly slow things down.  This is especially true if you have a limited bandwidth plan.\\n* **Wi-Fi Interference:**  Other electronic devices (microwaves, cordless phones, baby monitors), physical obstructions (walls, furniture), and even neighboring Wi-Fi networks can interfere with your Wi-Fi signal, leading to slower speeds.\\n* **Outdated Router/Modem:** Older routers and modems may not be able to handle the demands of modern internet speeds.\\n* **Too Many Devices Connected:**  Having too many devices connected to your network can overwhelm it, especially on a slower plan.\\n* **Malware/Virus:**  Malware can consume bandwidth in the background, slowing down your internet.\\n* **Full Hard Drive/RAM:**  A full hard drive or low RAM on your computer can impact its ability to process data efficiently, making it seem like your internet is slow.\\n* **Browser Issues:**  Too many browser extensions or a corrupted browser cache can slow down browsing.\\n* **Faulty Network Cable:**  A damaged Ethernet cable can significantly reduce speeds.\\n* **Incorrect Network Settings:**  Incorrectly configured network settings on your devices can affect performance.\\n\\n\\n**On Your ISP's End:**\\n\\n* **Network Outage:**  A temporary disruption in service from your ISP.\\n* **High Network Traffic:**  Periods of high demand (e.g., evenings, weekends) can lead to slower speeds for all users.\\n* **Throttling:**  Your ISP might be intentionally slowing down your speeds if you've exceeded your data limit or are using a lot of bandwidth.\\n* **ISP Infrastructure Issues:**  Problems with the ISP's equipment or network can cause widespread slowdowns.\\n* **Distance from the ISP's infrastructure:**  The further you are from your ISP's main infrastructure, the slower your speeds might be.\\n* **Over-subscription:**  Your ISP might be selling more bandwidth than their infrastructure can actually support.\\n\\n\\n**Troubleshooting Steps:**\\n\\nTo pinpoint the cause, try these steps:\\n\\n1. **Restart your modem and router:** This often resolves temporary glitches.\\n2. **Check your internet speed:** Use a speed test website (like Ookla's Speedtest.net) to see if you're getting the speed you're paying for.\\n3. **Run a virus scan:** Eliminate the possibility of malware consuming bandwidth.\\n4. **Check your Wi-Fi signal strength:** Move closer to your router or try connecting via Ethernet.\\n5. **Close unnecessary programs and browser tabs:** Reduce the demand on your computer's resources.\\n6. **Check your data usage:** See if you've exceeded your data limit.\\n7. **Contact your ISP:** If the problem persists, contact your ISP's technical support.  They can check for outages or other issues on their end.\\n\\n\\nBy systematically investigating these potential causes, you should be able to identify why your internet is slow and take steps to improve it.\\n\" additional_kwargs={} response_metadata={'prompt_feedback': {'block_reason': 0, 'safety_ratings': []}, 'finish_reason': 'STOP', 'safety_ratings': []} id='run-7355650c-3ef0-4e52-bc8e-01636874bbb3-0' usage_metadata={'input_tokens': 6, 'output_tokens': 683, 'total_tokens': 689, 'input_token_details': {'cache_read': 0}}\n",
            "(\"Assistant: **Search Result:** [{'url': \"\n",
            " \"'https://www.usatoday.com/tech/internet/how-to-fix-slow-internet/', \"\n",
            " \"'content': 'Why is my internet so slow on my phone? Slow internet speed on \"\n",
            " 'your phone can be caused by a low battery, having your phone in low-power '\n",
            " \"mode, having too many open apps or having a full memory'}, {'url': \"\n",
            " \"'https://www.lifewire.com/troubleshooting-slow-internet-connection-818125', \"\n",
            " \"'content': 'Causes of a Slow Internet Connection . Several factors could \"\n",
            " 'affect your slow internet connection. Games and other programs that work '\n",
            " 'with video require significant bandwidth. When they run, they limit the '\n",
            " 'bandwidth available for other apps. Other network activity could affect '\n",
            " \"overall bandwidth.'}]\\n\"\n",
            " '\\n'\n",
            " '**LLM Response:** content=\"Slow internet can be caused by a multitude of '\n",
            " 'factors, both on your end and on the side of your internet service provider '\n",
            " \"(ISP).  Here's a breakdown of common culprits:\\\\n\\\\n**On Your End:**\\\\n\\\\n* \"\n",
            " '**Network Congestion:**  Multiple devices using your internet connection '\n",
            " 'simultaneously (streaming, gaming, downloading) can significantly slow '\n",
            " 'things down.  This is especially true if you have a limited bandwidth '\n",
            " 'plan.\\\\n* **Wi-Fi Interference:**  Other electronic devices (microwaves, '\n",
            " 'cordless phones, baby monitors), physical obstructions (walls, furniture), '\n",
            " 'and even neighboring Wi-Fi networks can interfere with your Wi-Fi signal, '\n",
            " 'leading to slower speeds.\\\\n* **Outdated Router/Modem:** Older routers and '\n",
            " 'modems may not be able to handle the demands of modern internet speeds.\\\\n* '\n",
            " '**Too Many Devices Connected:**  Having too many devices connected to your '\n",
            " 'network can overwhelm it, especially on a slower plan.\\\\n* '\n",
            " '**Malware/Virus:**  Malware can consume bandwidth in the background, slowing '\n",
            " 'down your internet.\\\\n* **Full Hard Drive/RAM:**  A full hard drive or low '\n",
            " 'RAM on your computer can impact its ability to process data efficiently, '\n",
            " 'making it seem like your internet is slow.\\\\n* **Browser Issues:**  Too many '\n",
            " 'browser extensions or a corrupted browser cache can slow down browsing.\\\\n* '\n",
            " '**Faulty Network Cable:**  A damaged Ethernet cable can significantly reduce '\n",
            " 'speeds.\\\\n* **Incorrect Network Settings:**  Incorrectly configured network '\n",
            " \"settings on your devices can affect performance.\\\\n\\\\n\\\\n**On Your ISP's \"\n",
            " 'End:**\\\\n\\\\n* **Network Outage:**  A temporary disruption in service from '\n",
            " 'your ISP.\\\\n* **High Network Traffic:**  Periods of high demand (e.g., '\n",
            " 'evenings, weekends) can lead to slower speeds for all users.\\\\n* '\n",
            " '**Throttling:**  Your ISP might be intentionally slowing down your speeds if '\n",
            " \"you've exceeded your data limit or are using a lot of bandwidth.\\\\n* **ISP \"\n",
            " \"Infrastructure Issues:**  Problems with the ISP's equipment or network can \"\n",
            " \"cause widespread slowdowns.\\\\n* **Distance from the ISP's infrastructure:**  \"\n",
            " \"The further you are from your ISP's main infrastructure, the slower your \"\n",
            " 'speeds might be.\\\\n* **Over-subscription:**  Your ISP might be selling more '\n",
            " 'bandwidth than their infrastructure can actually '\n",
            " 'support.\\\\n\\\\n\\\\n**Troubleshooting Steps:**\\\\n\\\\nTo pinpoint the cause, try '\n",
            " 'these steps:\\\\n\\\\n1. **Restart your modem and router:** This often resolves '\n",
            " 'temporary glitches.\\\\n2. **Check your internet speed:** Use a speed test '\n",
            " \"website (like Ookla's Speedtest.net) to see if you're getting the speed \"\n",
            " \"you're paying for.\\\\n3. **Run a virus scan:** Eliminate the possibility of \"\n",
            " 'malware consuming bandwidth.\\\\n4. **Check your Wi-Fi signal strength:** Move '\n",
            " 'closer to your router or try connecting via Ethernet.\\\\n5. **Close '\n",
            " 'unnecessary programs and browser tabs:** Reduce the demand on your '\n",
            " \"computer's resources.\\\\n6. **Check your data usage:** See if you've exceeded \"\n",
            " 'your data limit.\\\\n7. **Contact your ISP:** If the problem persists, contact '\n",
            " \"your ISP's technical support.  They can check for outages or other issues on \"\n",
            " 'their end.\\\\n\\\\n\\\\nBy systematically investigating these potential causes, '\n",
            " 'you should be able to identify why your internet is slow and take steps to '\n",
            " 'improve it.\\\\n\" additional_kwargs={} response_metadata={\\'prompt_feedback\\': '\n",
            " \"{'block_reason': 0, 'safety_ratings': []}, 'finish_reason': 'STOP', \"\n",
            " \"'safety_ratings': []} id='run-7355650c-3ef0-4e52-bc8e-01636874bbb3-0' \"\n",
            " \"usage_metadata={'input_tokens': 6, 'output_tokens': 683, 'total_tokens': \"\n",
            " \"689, 'input_token_details': {'cache_read': 0}}\")\n",
            "User: bye\n",
            "'Goodbye!'\n"
          ]
        }
      ]
    }
  ]
}