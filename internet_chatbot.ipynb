{
  "nbformat": 4,
  "nbformat_minor": 0,
  "metadata": {
    "colab": {
      "provenance": [],
      "authorship_tag": "ABX9TyNDvZiG4Y+mk23RIoEIm1lw",
      "include_colab_link": true
    },
    "kernelspec": {
      "name": "python3",
      "display_name": "Python 3"
    },
    "language_info": {
      "name": "python"
    }
  },
  "cells": [
    {
      "cell_type": "markdown",
      "metadata": {
        "id": "view-in-github",
        "colab_type": "text"
      },
      "source": [
        "<a href=\"https://colab.research.google.com/github/SamarSaeed1146/Internet_Chatbot/blob/main/internet_chatbot.ipynb\" target=\"_parent\"><img src=\"https://colab.research.google.com/assets/colab-badge.svg\" alt=\"Open In Colab\"/></a>"
      ]
    },
    {
      "cell_type": "code",
      "execution_count": null,
      "metadata": {
        "id": "7PZ8sd_XxaWc"
      },
      "outputs": [],
      "source": [
        "%%capture --no-stderr\n",
        "# %pip install -U langgraph langsmith langchain_google_genai tavily-python langchain_community langchain_anthropic"
      ]
    },
    {
      "cell_type": "code",
      "source": [
        "%%capture --no-stderr\n",
        "%pip install -U langgraph langsmith langchain_google_genai tavily-python langchain_community langchain_anthropic\n",
        "\n",
        "import os\n",
        "from google.colab import userdata\n",
        "from langchain_google_genai import ChatGoogleGenerativeAI\n",
        "from langchain_community.tools.tavily_search import TavilySearchResults\n",
        "from langchain_core.messages import HumanMessage, BaseMessage, AIMessage, ToolMessage\n",
        "from langgraph.checkpoint.memory import MemorySaver\n",
        "from langgraph.graph import StateGraph, START, END\n",
        "from langgraph.graph.message import add_messages\n",
        "from langgraph.prebuilt import tools_condition\n",
        "from pydantic import BaseModel\n",
        "from typing import Annotated\n",
        "from typing_extensions import TypedDict\n",
        "from graphviz import Digraph\n",
        "from IPython.display import Image, display\n",
        "from langchain.tools import BaseTool # Import BaseTool\n",
        "\n",
        "# Set up API keys\n",
        "os.environ[\"LANGCHAIN_API_KEY\"] = userdata.get('LANGCHAIN_API_KEY')\n",
        "os.environ[\"LANGCHAIN_TRACING_V2\"] = \"true\"\n",
        "os.environ[\"LANGCHAIN_PROJECT\"] = \"internet_chatbot\"\n",
        "os.environ[\"TAVILY_API_KEY\"] = userdata.get(\"TAVILY_API_KEY\")\n",
        "\n",
        "gemini_api_key = userdata.get('GEMINI_API_KEY')\n",
        "\n",
        "# Define the chatbot model\n",
        "llm = ChatGoogleGenerativeAI(\n",
        "    model=\"gemini-1.5-flash\",\n",
        "    max_retries=2,\n",
        "    api_key=gemini_api_key\n",
        ")\n",
        "from typing import ClassVar # Import ClassVar\n",
        "\n",
        "class InternetTool(BaseTool):\n",
        "    name: ClassVar[str] = \"internet_diagnostic_tool\"  # Added type annotation with ClassVar\n",
        "    description: ClassVar[str] = \"A tool to diagnose internet problems.\"\n",
        "\n",
        "\n",
        "\n",
        "    def _run(self, query: str) -> str:\n",
        "        if \"slow internet\" in query.lower():\n",
        "            return \"The issue might be due to network congestion or ISP throttling. Try restarting your router.\"\n",
        "        elif \"no connection\" in query.lower():\n",
        "            return \"Check your cables and ensure your router is powered on.\"\n",
        "        elif \"wifi not working\" in query.lower():\n",
        "            return \"Reconnect to the WiFi or reset the network settings on your device.\"\n",
        "        return \"I'm unable to diagnose the issue. Please contact your ISP.\"\n",
        "\n",
        "    async def _arun(self, query: str) -> str:\n",
        "        \"\"\"Use the tool asynchronously.\"\"\"\n",
        "        raise NotImplementedError(\"InternetTool does not support async\")\n",
        "\n",
        "# Tools integration\n",
        "tool = TavilySearchResults(max_results=2)\n",
        "custom_tool = InternetTool() # Instantiate InternetTool\n",
        "tools = [tool, custom_tool]\n",
        "\n",
        "# Define the chatbot state structure\n",
        "class State(TypedDict):\n",
        "    messages: Annotated[list, add_messages]\n",
        "    ask_human: bool\n",
        "\n",
        "class RequestAssistance(BaseModel):\n",
        "    request: str\n",
        "\n",
        "# Remove MockLLM and use the actual llm with bind_tools\n",
        "def chatbot(state: State):\n",
        "    response = llm.bind_tools(tools).invoke(state[\"messages\"]) # Bind tools to llm\n",
        "    ask_human = False\n",
        "    if response.tool_calls and response.tool_calls[0][\"name\"] == RequestAssistance.__name__:\n",
        "        ask_human = True\n",
        "    return {\"messages\": state[\"messages\"] + [response], \"ask_human\": ask_human}\n",
        "\n",
        "# Rest of the code remains the same...\n",
        "# Human escalation node\n",
        "def human_node(state: State):\n",
        "    new_messages = []\n",
        "    if not isinstance(state[\"messages\"][-1], ToolMessage):\n",
        "        new_messages.append(\n",
        "            ToolMessage(content=\"No response from human.\", tool_call_id=None)\n",
        "        )\n",
        "    return {\n",
        "        \"messages\": state[\"messages\"] + new_messages,\n",
        "        \"ask_human\": False,\n",
        "    }\n",
        "\n",
        "# Define the state graph\n",
        "graph_builder = StateGraph(State)\n",
        "\n",
        "# Add nodes to the graph\n",
        "graph_builder.add_node(\"chatbot\", chatbot)\n",
        "graph_builder.add_node(\"human\", human_node)\n",
        "\n",
        "def select_next_node(state: State):\n",
        "    if state[\"ask_human\"]:\n",
        "        return \"human\"\n",
        "    return tools_condition(state)\n",
        "\n",
        "graph_builder.add_conditional_edges(\n",
        "    \"chatbot\",\n",
        "    select_next_node,\n",
        "    {\"human\": \"human\", \"__end__\": \"__end__\"},\n",
        ")\n",
        "graph_builder.add_edge(\"human\", \"chatbot\")\n",
        "graph_builder.set_entry_point(\"chatbot\")\n",
        "\n",
        "# Compile the graph\n",
        "memory = MemorySaver()\n",
        "graph = graph_builder.compile(\n",
        "    checkpointer=memory,\n",
        "    interrupt_before=[\"human\"],\n",
        ")\n"
      ],
      "metadata": {
        "id": "rl0vXEHrJBsE"
      },
      "execution_count": 42,
      "outputs": []
    },
    {
      "cell_type": "code",
      "source": [
        "from IPython.display import Image, display\n",
        "\n",
        "try:\n",
        "    display(Image(graph.get_graph().draw_mermaid_png()))\n",
        "except Exception:\n",
        "    pass"
      ],
      "metadata": {
        "colab": {
          "base_uri": "https://localhost:8080/",
          "height": 308
        },
        "id": "y1jxLjE6OQXu",
        "outputId": "3a7a8664-c11f-48b7-f6e5-726ca21fd770"
      },
      "execution_count": 43,
      "outputs": [
        {
          "output_type": "display_data",
          "data": {
            "image/png": "[encoded data removed]",
            "text/plain": [
              "<IPython.core.display.Image object>"
            ]
          },
          "metadata": {}
        }
      ]
    },
    {
      "cell_type": "code",
      "source": [
        "user_input = \"my internet is not working\"\n",
        "config = {\"configurable\": {\"thread_id\": \"1\"}}\n",
        "# Changed to initialize with HumanMessage\n",
        "events = graph.stream(\n",
        "    {\"messages\": [HumanMessage(content=user_input)]}, config, stream_mode=\"values\"\n",
        ")\n",
        "\n",
        "# Display chatbot responses\n",
        "for event in events:\n",
        "    if \"messages\" in event:\n",
        "        print(event[\"messages\"][-1].content)"
      ],
      "metadata": {
        "colab": {
          "base_uri": "https://localhost:8080/"
        },
        "id": "l--vDDLtObB3",
        "outputId": "094d027e-fe2f-4754-816f-23678892a467"
      },
      "execution_count": 48,
      "outputs": [
        {
          "output_type": "stream",
          "name": "stdout",
          "text": [
            "my internet is not working\n",
            "Let's troubleshoot your internet connection. To help me understand the problem, please tell me:\n",
            "\n",
            "* **What is the problem specifically?**  (e.g., No internet connection at all, very slow speeds, intermittent connection)\n",
            "* **What devices are affected?** (e.g., All devices, just one computer, only my phone)\n",
            "* **What type of internet connection do you have?** (e.g., Cable, DSL, Fiber, Satellite, Mobile Hotspot)\n",
            "* **Have you tried restarting your modem and router?**  (This is often the first step!)\n",
            "* **Are you getting any error messages?** If so, what do they say?\n",
            "* **Have you checked all the cables to make sure they are securely connected?**\n",
            "\n",
            "\n",
            "Once I have this information, I can offer more specific troubleshooting suggestions.\n",
            "\n"
          ]
        }
      ]
    }
  ]
}