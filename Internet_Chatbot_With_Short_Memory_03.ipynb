{
  "nbformat": 4,
  "nbformat_minor": 0,
  "metadata": {
    "colab": {
      "provenance": [],
      "authorship_tag": "ABX9TyPe3Br1WsZG6YwGipjXpMN8",
      "include_colab_link": true
    },
    "kernelspec": {
      "name": "python3",
      "display_name": "Python 3"
    },
    "language_info": {
      "name": "python"
    }
  },
  "cells": [
    {
      "cell_type": "markdown",
      "metadata": {
        "id": "view-in-github",
        "colab_type": "text"
      },
      "source": [
        "<a href=\"https://colab.research.google.com/github/SamarSaeed1146/Internet_Chatbot/blob/main/Internet_Chatbot_With_Short_Memory_03.ipynb\" target=\"_parent\"><img src=\"https://colab.research.google.com/assets/colab-badge.svg\" alt=\"Open In Colab\"/></a>"
      ]
    },
    {
      "cell_type": "code",
      "execution_count": null,
      "metadata": {
        "id": "LGGyRohIDfO3"
      },
      "outputs": [],
      "source": [
        "%%capture --no-stderr\n",
        "%pip install -qU langchain langgraph langchain_google_genai tavily-python langchain_community"
      ]
    },
    {
      "cell_type": "code",
      "source": [
        "import os\n",
        "from google.colab import userdata\n",
        "\n",
        "os.environ[\"LANGCHAIN_API_KEY\"] = userdata.get('LANGCHAIN_API_KEY')\n",
        "os.environ[\"LANGCHAIN_TRACING_V2\"] = 'true'\n",
        "os.environ[\"LANGCHAIN_PROJECT\"] = 'internet_memory'\n",
        "os.environ[\"TAVILY_API_KEY\"] = userdata.get('TAVILY_API_KEY')\n",
        "\n",
        "gemini_api_key = userdata.get('GEMINI_API_KEY')"
      ],
      "metadata": {
        "id": "tuqhSRmUNCeN"
      },
      "execution_count": null,
      "outputs": []
    },
    {
      "cell_type": "code",
      "source": [
        "from langchain_google_genai import ChatGoogleGenerativeAI\n",
        "\n",
        "llm: ChatGoogleGenerativeAI = ChatGoogleGenerativeAI(\n",
        "    model=\"gemini-1.5-flash\",\n",
        "    api_key=gemini_api_key,\n",
        "    max_retries=2,\n",
        "    temperature=0.5,\n",
        ")"
      ],
      "metadata": {
        "id": "iHDrYwMjOYe_"
      },
      "execution_count": null,
      "outputs": []
    },
    {
      "cell_type": "code",
      "source": [
        "from langchain_community.tools.tavily_search import TavilySearchResults\n",
        "\n",
        "tool = TavilySearchResults(max_results=2)\n",
        "tools = [tool]\n",
        "tool.invoke(\"what is langgraph\")"
      ],
      "metadata": {
        "colab": {
          "base_uri": "https://localhost:8080/"
        },
        "id": "sfM6JD40PvRB",
        "outputId": "60c0e414-c619-4117-b67f-7917aa116778"
      },
      "execution_count": null,
      "outputs": [
        {
          "output_type": "execute_result",
          "data": {
            "text/plain": [
              "[{'url': 'https://www.datacamp.com/tutorial/langgraph-tutorial',\n",
              "  'content': 'LangGraph is a library within the LangChain ecosystem that provides a framework for defining, coordinating, and executing multiple LLM agents in a structured and efficient manner. Learn how to install, use, and customize LangGraph to build complex, scalable, and flexible multi-agent systems.'},\n",
              " {'url': 'https://medium.com/@cplog/introduction-to-langgraph-a-beginners-guide-14f9be027141',\n",
              "  'content': 'LangGraph is a versatile tool for building complex, stateful applications with LLMs. By understanding its core concepts and working through simple examples, beginners can start to leverage its'}]"
            ]
          },
          "metadata": {},
          "execution_count": 11
        }
      ]
    },
    {
      "cell_type": "code",
      "source": [
        "from langgraph.graph import StateGraph, START, END\n",
        "from langgraph.graph.message import add_messages\n",
        "from IPython.display import Image, display\n",
        "from typing_extensions import Annotated, TypedDict\n",
        "\n",
        "def internet_problem_solver(user_input: str):\n",
        "    if \"internet\" not in user_input.lower():\n",
        "        return \"I can only assist with internet-related problems. Please ask about issues such as slow speeds, connection drops, or Wi-Fi setups.\"\n",
        "\n",
        "    responses = []\n",
        "    try:\n",
        "        tool_response = tool.invoke(user_input)\n",
        "\n",
        "        if tool_response:\n",
        "            responses.append(f\"{tool_response}\")\n",
        "    except Exception as e:\n",
        "        print(f\"Error invoking TavilySearchResults: {str(e)}\")\n",
        "        responses.append(f\"Error with TavilySearchResults: {str(e)}\")\n",
        "\n",
        "    if responses:\n",
        "        return \"\\n\\n\".join(responses)\n",
        "    else:\n",
        "        return \"No meaningful response from tools or LLM.\"\n",
        "\n",
        "def greeting_handler(user_input: str):\n",
        "    greetings = [\"hello\", \"hi\", \"hey\", \"greetings\"]\n",
        "    if any(greet in user_input.lower() for greet in greetings):\n",
        "        return \"Hello! How can I assist you today? If you have any internet-related issues, feel free to ask!\"\n",
        "    else:\n",
        "        return \"Redirecting to the Internet Problem Solver for your query.\"\n",
        "\n",
        "class State(TypedDict):\n",
        "    messages: Annotated[list, add_messages]\n",
        "\n",
        "graph_builder = StateGraph(State)\n",
        "graph_builder.add_node(\"Greeting\", greeting_handler)\n",
        "graph_builder.add_node(\"Internet Problem Solver\", internet_problem_solver)\n",
        "graph_builder.add_edge(START, \"Greeting\")\n",
        "graph_builder.add_conditional_edges(\n",
        "    \"Greeting\",\n",
        "    {\n",
        "        \"Internet Problem Solver\": lambda user_input: \"internet\" in user_input.lower(),\n",
        "        END: lambda user_input: not (\"internet\" in user_input.lower())\n",
        "    }\n",
        ")\n",
        "graph = graph_builder.compile()\n",
        "\n",
        "try:\n",
        "    display(Image(graph.get_graph().draw_mermaid_png()))\n",
        "except Exception:\n",
        "    pass\n"
      ],
      "metadata": {
        "id": "ywgPCE2uRyY0"
      },
      "execution_count": null,
      "outputs": []
    }
  ]
}